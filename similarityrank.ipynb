{
 "cells": [
  {
   "cell_type": "markdown",
   "metadata": {},
   "source": [
    "## Traditional Similarity search methods\n",
    "\n",
    "1. Jaccard = intersection(A,B) / union(A,B). For example, A = {1,2,3} and B = {2,4}, our resulkting Jaccard = 0.25\n",
    "2. Levenshtein (similar to Jaccard but requires preprocessign for n-gram representation)"
   ]
  },
  {
   "cell_type": "code",
   "execution_count": 4,
   "metadata": {},
   "outputs": [],
   "source": [
    "def jaccard(sentc_one: str, sentc_two: str):\n",
    "    # Convert to sets\n",
    "    sentc_one = set(sentc_one.split())\n",
    "    sentc_two = set(sentc_two.split())\n",
    "    # Calculate\n",
    "    shared = sentc_one.intersection(sentc_two)\n",
    "    union = sentc_one.union(sentc_two)\n",
    "    return len(shared) / len(union)\n",
    "\n",
    "\n",
    "\n"
   ]
  },
  {
   "cell_type": "code",
   "execution_count": 12,
   "metadata": {},
   "outputs": [
    {
     "data": {
      "text/plain": [
       "0.2857142857142857"
      ]
     },
     "execution_count": 12,
     "metadata": {},
     "output_type": "execute_result"
    }
   ],
   "source": [
    "jaccard('Paul is cool', 'Cool person forever Paul is coolest is coolest')"
   ]
  },
  {
   "cell_type": "markdown",
   "metadata": {},
   "source": [
    "## Sparse and Dense Representations"
   ]
  },
  {
   "cell_type": "markdown",
   "metadata": {},
   "source": [
    "1. TF-IDF (Sparse)\n",
    "\n",
    "Term Frequency = f(q, D) / f(t, D)\n",
    "\n",
    "f(q, D) - Frequency of query q in Document D\n",
    "f(t, D) - Frequency of all terms in Document D (total num terms)\n",
    "\n",
    "Inverse Document Frequency or IDF = log (N / N(q='forest'))\n",
    "It is calculate for each document\n",
    "\n",
    "N is the total number of documents\n",
    "N(q=\"forest\") is number of documents containing the query forest\n",
    "\n",
    "2. BM25 (Sparse)\n",
    "3. SBERT (Dense)"
   ]
  },
  {
   "cell_type": "code",
   "execution_count": 18,
   "metadata": {},
   "outputs": [],
   "source": [
    "a = \"purple is the best city in the forest\".split()\n",
    "b = \"there is an art to getting your way and throwing bananas on to the street is not it\".split()\n",
    "c = \"it is not often you find soggy bananas on the street\".split()\n"
   ]
  },
  {
   "cell_type": "code",
   "execution_count": 14,
   "metadata": {},
   "outputs": [
    {
     "data": {
      "text/plain": [
       "['purple', 'is', 'the', 'best', 'city', 'in', 'the', 'forest']"
      ]
     },
     "execution_count": 14,
     "metadata": {},
     "output_type": "execute_result"
    }
   ],
   "source": [
    "a"
   ]
  },
  {
   "cell_type": "code",
   "execution_count": 20,
   "metadata": {},
   "outputs": [],
   "source": [
    "import numpy as np\n",
    "\n",
    "# we'll merge all docs into a list of lists for easier calculation of IDF\n",
    "docs = [a , b, c]\n",
    "# print(docs)\n",
    "\n",
    "def tfidf(word, sentence):\n",
    "    # term frequency\n",
    "    freq = sentence.count(word)\n",
    "    tf = freq / len(sentence)\n",
    "    \n",
    "    # inverse document frequency\n",
    "    idf = np.log10(len(docs) / sum([1 for doc in docs if word in doc]))\n",
    "\n",
    "    # tf-idf\n",
    "    tf_idf = round(tf*idf, 4)\n",
    "\n",
    "    return tf_idf\n"
   ]
  },
  {
   "cell_type": "code",
   "execution_count": 22,
   "metadata": {},
   "outputs": [
    {
     "data": {
      "text/plain": [
       "0.0596"
      ]
     },
     "execution_count": 22,
     "metadata": {},
     "output_type": "execute_result"
    }
   ],
   "source": [
    "tfidf('forest', a)"
   ]
  },
  {
   "cell_type": "code",
   "execution_count": 23,
   "metadata": {},
   "outputs": [
    {
     "data": {
      "text/plain": [
       "{'an',\n",
       " 'and',\n",
       " 'art',\n",
       " 'bananas',\n",
       " 'best',\n",
       " 'city',\n",
       " 'find',\n",
       " 'forest',\n",
       " 'getting',\n",
       " 'in',\n",
       " 'is',\n",
       " 'it',\n",
       " 'not',\n",
       " 'often',\n",
       " 'on',\n",
       " 'purple',\n",
       " 'soggy',\n",
       " 'street',\n",
       " 'the',\n",
       " 'there',\n",
       " 'throwing',\n",
       " 'to',\n",
       " 'way',\n",
       " 'you',\n",
       " 'your'}"
      ]
     },
     "execution_count": 23,
     "metadata": {},
     "output_type": "execute_result"
    }
   ],
   "source": [
    "# Create Document vectors\n",
    "vocab = set(a+b+c)\n",
    "vocab"
   ]
  },
  {
   "cell_type": "code",
   "execution_count": 25,
   "metadata": {},
   "outputs": [],
   "source": [
    "# Mirror our vocab as vector, for each document\n",
    "\n",
    "vec_a = []\n",
    "vec_b = []\n",
    "vec_c = []\n",
    "\n",
    "for word in vocab:\n",
    "    vec_a.append(tfidf(word, a))\n",
    "    vec_b.append(tfidf(word, b))\n",
    "    vec_c.append(tfidf(word, c))\n"
   ]
  },
  {
   "cell_type": "code",
   "execution_count": 26,
   "metadata": {},
   "outputs": [
    {
     "data": {
      "text/plain": [
       "[0.0,\n",
       " 0.0265,\n",
       " 0.0265,\n",
       " 0.053,\n",
       " 0.0098,\n",
       " 0.0,\n",
       " 0.0265,\n",
       " 0.0,\n",
       " 0.0265,\n",
       " 0.0,\n",
       " 0.0265,\n",
       " 0.0098,\n",
       " 0.0,\n",
       " 0.0,\n",
       " 0.0098,\n",
       " 0.0,\n",
       " 0.0098,\n",
       " 0.0,\n",
       " 0.0098,\n",
       " 0.0265,\n",
       " 0.0,\n",
       " 0.0,\n",
       " 0.0,\n",
       " 0.0265,\n",
       " 0.0265]"
      ]
     },
     "execution_count": 26,
     "metadata": {},
     "output_type": "execute_result"
    }
   ],
   "source": [
    "vec_b"
   ]
  },
  {
   "cell_type": "markdown",
   "metadata": {},
   "source": [
    "## BM25\n",
    "BM25 is an optimized version of TFIDF\n",
    "\n",
    "One of the problems with the TFIDF method is that as the frequency of queries found in a document increase, the score increases linearly.\n",
    "\n",
    "Imagine 1000 word article with word dog appearing 10 times = good chance article is talking about dog\n",
    "\n",
    "Now if you double words that mention dog to 20, TFIDF will double as well. \n",
    "\n",
    "Logically that shouldnt be the case. That means that the original document with dog 10times is a document that is half as relevant to dogs as the article with dog 20 times. BM25 tries to normalize this exaggeration. "
   ]
  },
  {
   "cell_type": "code",
   "execution_count": 3,
   "metadata": {},
   "outputs": [],
   "source": [
    "a = \"purple is the best city in the forest\".split()\n",
    "b = \"there is an art to getting your way and throwing bananas on to the street is not it\".split()\n",
    "c = \"it is not often you find soggy bananas on the street\".split()\n",
    "d = \"green should have smelled more tranquil but somehow it just tasted rotten\".split()\n",
    "e = \"joyce enjoyed eating pancakes with ketchup\".split()\n",
    "f = \"as the asteroid hurtled toward earth becky was upset her dentist appointment had been canceled\".split()"
   ]
  },
  {
   "cell_type": "code",
   "execution_count": 5,
   "metadata": {},
   "outputs": [],
   "source": [
    "import numpy as np\n",
    "\n",
    "docs = [a, b, c, d, e, f]\n",
    "N = len(docs) # Number of documents\n",
    "\n",
    "# Recall tfidf\n",
    "def tfidf(word, sentence):\n",
    "    # term frequency\n",
    "    freq = sentence.count(word)\n",
    "    tf = freq / len(sentence)\n",
    "    \n",
    "    # inverse document frequency\n",
    "    N_q = sum([1 for doc in docs if word in doc]) # Number of docs that contain the word  \n",
    "    idf = np.log10(N / N_q)\n",
    "\n",
    "    # tf-idf\n",
    "    tf_idf = round(tf*idf, 4)\n",
    "\n",
    "    return tf_idf\n",
    "\n"
   ]
  },
  {
   "cell_type": "code",
   "execution_count": 6,
   "metadata": {},
   "outputs": [],
   "source": [
    "# Optimization new features\n",
    "# 1. Average Document length (Sum of All len(sent) across docs / N)\n",
    "avgdl = sum(len(sentence) for sentence in docs) / N \n",
    "\n",
    "# 2. k and b - Adjustable parameters that control ...\n"
   ]
  },
  {
   "cell_type": "code",
   "execution_count": 7,
   "metadata": {},
   "outputs": [],
   "source": [
    "N = len(docs) # Number of documents\n",
    "#bm25 implementation\n",
    "def bm25(word, sentence, k=1.2, b=0.75):\n",
    "    # term frequency\n",
    "    freq = sentence.count(word) \n",
    "    \n",
    "    tf = (freq * (k + 1)) / (freq + k * (1 - b + b * len(sentence) / avgdl))\n",
    "\n",
    "    # inverse document frequency\n",
    "    N_q = sum([1 for doc in docs if word in doc]) # Number of docs that contain the word    \n",
    "    idf = np.log(((N - N_q + 0.5) / (N_q + 0.5)) + 1)\n",
    "\n",
    "    return round(tf*idf, 4)\n",
    "    "
   ]
  },
  {
   "cell_type": "code",
   "execution_count": 9,
   "metadata": {},
   "outputs": [
    {
     "data": {
      "text/plain": [
       "1.7677"
      ]
     },
     "execution_count": 9,
     "metadata": {},
     "output_type": "execute_result"
    }
   ],
   "source": [
    "bm25('purple', a)"
   ]
  },
  {
   "cell_type": "markdown",
   "metadata": {},
   "source": [
    "### Comparing TF-IDF and BM25 algorithms\n",
    "The TF-IDF score increases linearly with the frequency for the matching term \n",
    "\n",
    "The BM25 algorithm increases logarithmically.\n",
    "\n",
    "In most cases BM25 is more realistic."
   ]
  },
  {
   "cell_type": "markdown",
   "metadata": {},
   "source": [
    "## (Dense vectors): Sentence embeddings with Siamese BERT-Networks (SBERT)\n",
    "The effect of using dense vectors is that it lets you represent words in a more meaningful manner\n",
    "\n",
    "For example words like hi == hello in their vector similarity, and so would days of the week.\n",
    "\n",
    "In this case, we have a transformer model (BERT) and our queries (q) and documents (D) are processed by many (and the same) BERT encoding layers (encoder network). Consequently, what we get as output are Dense vectors.\n",
    "\n",
    "Similarity between query and Document can be calculated using cosine similarity. The smaller angle between 2 vectors. Where the angle is smaller they are more similar, where the angle is larger they are dissimilar.\n",
    "\n",
    "We will use a SentenceTransformers library that uses Hugging Face Transformers under the hood. "
   ]
  },
  {
   "cell_type": "code",
   "execution_count": 14,
   "metadata": {},
   "outputs": [],
   "source": [
    "a = \"purple is the best city in the forest\"\n",
    "b = \"there is an art to getting your way and throwing bananas on to the street is not it\"\n",
    "c = \"it is not often you find soggy bananas on the street\"\n",
    "d = \"green should have smelled more tranquil but somehow it just tasted rotten\"\n",
    "e = \"joyce enjoyed eating pancakes with ketchup\"\n",
    "f = \"as the asteroid hurtled toward earth becky was upset her dentist appointment had been canceled\"\n",
    "g = \"to get your way you must not bombard the road with yellow fruit\""
   ]
  },
  {
   "cell_type": "code",
   "execution_count": 15,
   "metadata": {},
   "outputs": [
    {
     "name": "stderr",
     "output_type": "stream",
     "text": [
      "Downloading: 100%|██████████| 391/391 [00:00<?, ?B/s] \n",
      "Downloading: 100%|██████████| 3.95k/3.95k [00:00<?, ?B/s]\n",
      "Downloading: 100%|██████████| 2.00/2.00 [00:00<00:00, 2.09kB/s]\n",
      "Downloading: 100%|██████████| 625/625 [00:00<00:00, 621kB/s]\n",
      "Downloading: 100%|██████████| 122/122 [00:00<00:00, 119kB/s]\n",
      "Downloading: 100%|██████████| 229/229 [00:00<00:00, 237kB/s]\n",
      "Downloading: 100%|██████████| 438M/438M [00:18<00:00, 24.3MB/s] \n",
      "Downloading: 100%|██████████| 53.0/53.0 [00:00<00:00, 26.6kB/s]\n",
      "Downloading: 100%|██████████| 112/112 [00:00<00:00, 117kB/s]\n",
      "Downloading: 100%|██████████| 466k/466k [00:00<00:00, 2.76MB/s]\n",
      "Downloading: 100%|██████████| 399/399 [00:00<?, ?B/s] \n",
      "Downloading: 100%|██████████| 232k/232k [00:00<00:00, 561kB/s] \n",
      "Downloading: 100%|██████████| 190/190 [00:00<00:00, 191kB/s]\n"
     ]
    }
   ],
   "source": [
    "from sentence_transformers import SentenceTransformer\n",
    "\n",
    "model = SentenceTransformer('bert-base-nli-mean-tokens') # sentence bert\n",
    "\n",
    "sentence_embeddings = model.encode([a, b, c, d, e, f, g])"
   ]
  },
  {
   "cell_type": "code",
   "execution_count": 23,
   "metadata": {},
   "outputs": [
    {
     "data": {
      "text/plain": [
       "array([[-0.6473692 , -0.22722252,  0.2818377 , ...,  0.19777124,\n",
       "         0.44347912,  0.07920003],\n",
       "       [ 0.68627053, -0.06007962, -0.21887724, ...,  0.7335471 ,\n",
       "        -0.5783968 ,  0.1051655 ],\n",
       "       [ 0.31879255, -0.5651987 , -0.13997136, ...,  1.3114421 ,\n",
       "        -0.21025229, -0.6065187 ],\n",
       "       ...,\n",
       "       [-0.8976574 ,  0.53626764, -0.4212417 , ...,  0.12172866,\n",
       "         0.6893288 , -0.06992121],\n",
       "       [-0.29061842,  0.6061146 ,  0.72860605, ..., -0.2978694 ,\n",
       "         0.04175397,  0.03440014],\n",
       "       [ 0.41729304,  0.5861802 ,  0.66570663, ...,  0.45571277,\n",
       "        -1.4096198 , -0.03274487]], dtype=float32)"
      ]
     },
     "execution_count": 23,
     "metadata": {},
     "output_type": "execute_result"
    }
   ],
   "source": [
    "sentence_embeddings.shape # (7, 768) == (row, col), where col is the size of a single embedding vector\n",
    "sentence_embeddings"
   ]
  },
  {
   "cell_type": "code",
   "execution_count": 29,
   "metadata": {},
   "outputs": [],
   "source": [
    "N = sentence_embeddings.shape[0] # num of docs"
   ]
  },
  {
   "cell_type": "code",
   "execution_count": 30,
   "metadata": {},
   "outputs": [],
   "source": [
    "from sklearn.metrics.pairwise import cosine_similarity\n",
    "import numpy as np\n",
    "\n",
    "# calculate similarity scores (will store results in array)\n",
    "\n",
    "scores = np.zeros((N, N)) # np array of N by N because we want to evaluate each document with one another\n",
    "for i in range(N):\n",
    "    scores[i, :] = cosine_similarity([sentence_embeddings[i]], sentence_embeddings)[0]"
   ]
  },
  {
   "cell_type": "code",
   "execution_count": 33,
   "metadata": {},
   "outputs": [
    {
     "data": {
      "text/plain": [
       "array([[ 1.00000012,  0.18692766,  0.28297698,  0.29628253,  0.27451009,\n",
       "         0.1017627 ,  0.21696275],\n",
       "       [ 0.18692766,  1.00000024,  0.72058785,  0.5142895 ,  0.11749656,\n",
       "         0.19306955,  0.66182357],\n",
       "       [ 0.28297698,  0.72058785,  1.00000012,  0.48864433,  0.23568957,\n",
       "         0.17157137,  0.5599308 ],\n",
       "       [ 0.29628253,  0.5142895 ,  0.48864433,  0.99999976,  0.26985496,\n",
       "         0.37889445,  0.52388823],\n",
       "       [ 0.27451009,  0.11749656,  0.23568954,  0.26985502,  0.99999994,\n",
       "         0.23422134, -0.01599771],\n",
       "       [ 0.10176267,  0.19306955,  0.1715714 ,  0.37889433,  0.23422134,\n",
       "         1.00000024,  0.22319689],\n",
       "       [ 0.21696275,  0.66182351,  0.5599308 ,  0.52388823, -0.01599771,\n",
       "         0.22319694,  0.99999994]])"
      ]
     },
     "execution_count": 33,
     "metadata": {},
     "output_type": "execute_result"
    }
   ],
   "source": [
    "scores"
   ]
  },
  {
   "cell_type": "code",
   "execution_count": 37,
   "metadata": {},
   "outputs": [
    {
     "data": {
      "text/plain": [
       "<AxesSubplot:>"
      ]
     },
     "execution_count": 37,
     "metadata": {},
     "output_type": "execute_result"
    },
    {
     "data": {
      "image/png": "[encoded data removed]",
      "text/plain": [
       "<Figure size 720x648 with 2 Axes>"
      ]
     },
     "metadata": {
      "needs_background": "light"
     },
     "output_type": "display_data"
    }
   ],
   "source": [
    "import matplotlib.pyplot as plt\n",
    "import seaborn as sns\n",
    "\n",
    "plt.figure(figsize=(10,9))\n",
    "labels = ['a', 'b', 'c', 'd', 'e', 'f', 'g']\n",
    "sns.heatmap(scores, xticklabels=labels, yticklabels=labels, annot=True)"
   ]
  },
  {
   "cell_type": "markdown",
   "metadata": {},
   "source": [
    "# Facebook AI Similarity Search (FAISS)\n",
    "\n",
    "Library from Facebook AI allows users to compare vectors with high efficiency.\n",
    "\n",
    "Building sentence and comparing sentence embeddings with python loops as above is slow. Feasible for ~ 100 vectors. \n",
    "\n",
    "FAISS can scale to billions of vectors. \n",
    "\n",
    "\n",
    "\n"
   ]
  },
  {
   "cell_type": "code",
   "execution_count": null,
   "metadata": {},
   "outputs": [],
   "source": []
  }
 ],
 "metadata": {
  "interpreter": {
   "hash": "ea2f73b6b3337bbcd990992f986e589ee5babb21456e0839dadedb1841132886"
  },
  "kernelspec": {
   "display_name": "Python 3.9.6 64-bit",
   "language": "python",
   "name": "python3"
  },
  "language_info": {
   "codemirror_mode": {
    "name": "ipython",
    "version": 3
   },
   "file_extension": ".py",
   "mimetype": "text/x-python",
   "name": "python",
   "nbconvert_exporter": "python",
   "pygments_lexer": "ipython3",
   "version": "3.9.6"
  },
  "orig_nbformat": 4
 },
 "nbformat": 4,
 "nbformat_minor": 2
}
